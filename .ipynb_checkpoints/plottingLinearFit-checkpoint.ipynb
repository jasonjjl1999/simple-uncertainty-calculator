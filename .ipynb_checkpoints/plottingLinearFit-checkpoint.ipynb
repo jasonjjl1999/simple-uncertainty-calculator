{
 "cells": [
  {
   "cell_type": "code",
   "execution_count": 1,
   "metadata": {},
   "outputs": [
    {
     "name": "stdout",
     "output_type": "stream",
     "text": [
      "m1:\n",
      "27.412251808527007\n",
      "\n",
      "m1 uncertainty:\n",
      "0.8862165767524958\n",
      "\n",
      "b1:\n",
      "-0.4492377251038934\n",
      "\n",
      "b1 uncertainty:\n",
      "0.09894195106067867\n",
      "\n",
      "Reduced chi-squared for Plot 1:\n",
      "0.6699624527053759\n",
      "\n"
     ]
    },
    {
     "data": {
      "text/plain": [
       "<function matplotlib.pyplot.show(*args, **kw)>"
      ]
     },
     "execution_count": 1,
     "metadata": {},
     "output_type": "execute_result"
    }
   ],
   "source": [
    "import matplotlib.pyplot as plt\n",
    "from uncertainty import*\n",
    "from chiSquared import*\n",
    "from linearFit import*\n",
    "\n",
    "x = [5, 10, 13, 16, 20]\n",
    "x = [1/p for p in x]\n",
    "xe = [0.01]*5\n",
    "\n",
    "y = [5.08, 2.19, 1.59,1.26, 1.05]\n",
    "ye = [0.13]*5\n",
    "\n",
    "# Determine Values and Uncertainty for Slope and Intercept\n",
    "[m, merr, b, berr] = fit(x, y)\n",
    "print('m1:')\n",
    "print(m)\n",
    "print(\"\")\n",
    "print('m1 uncertainty:')\n",
    "print(merr)\n",
    "print(\"\")\n",
    "print('b1:')\n",
    "print(b)\n",
    "print(\"\")\n",
    "print('b1 uncertainty:')\n",
    "print(berr)\n",
    "print(\"\")\n",
    "yline = []\n",
    "for i in range(0,len(y)):\n",
    "    yline = yline + [m*(x[i]) + b]\n",
    "    \n",
    "# Find Reduced Chi Squared Value\n",
    "c = chi(yline, y, ye)\n",
    "v = len(x)-2\n",
    "print('Reduced chi-squared for Plot 1:')\n",
    "print(c/v)\n",
    "print(\"\")\n",
    "\n",
    "# Plot Figure\n",
    "plt.figure(1)\n",
    "plt.scatter(x, y)\n",
    "plt.plot(x, yline)\n",
    "plt.errorbar(x, y, xerr=xe, yerr=ye, linestyle=\"None\")\n",
    "plt.title(\"Frequency vs Wavelength\")\n",
    "plt.xlabel(\"1/Frequency (s)\")\n",
    "plt.ylabel(\"Wavelength (cm)\")\n",
    "\n",
    "plt.show"
   ]
  },
  {
   "cell_type": "code",
   "execution_count": 2,
   "metadata": {},
   "outputs": [
    {
     "data": {
      "text/plain": [
       "<function matplotlib.pyplot.show(*args, **kw)>"
      ]
     },
     "execution_count": 2,
     "metadata": {},
     "output_type": "execute_result"
    },
    {
     "data": {
      "image/png": "[encoded data removed]",
      "text/plain": [
       "<Figure size 432x288 with 1 Axes>"
      ]
     },
     "metadata": {
      "needs_background": "light"
     },
     "output_type": "display_data"
    }
   ],
   "source": [
    "# Plot Residual\n",
    "residual = []\n",
    "\n",
    "for i in range(0,len(y)):\n",
    "    residual = residual + [y[i] - yline[i]]  \n",
    "\n",
    "plt.figure(2)\n",
    "plt.scatter(x, residual)\n",
    "plt.plot(x, [0]*len(x), 'k')\n",
    "plt.title(\"Frequency vs Wavelength (Residual Plot)\")\n",
    "plt.xlabel(\"1/Frequency (s)\")\n",
    "plt.ylabel(\"Wavelength (cm)\")\n",
    "\n",
    "plt.show"
   ]
  }
 ],
 "metadata": {
  "kernelspec": {
   "display_name": "env",
   "language": "python",
   "name": "env"
  },
  "language_info": {
   "codemirror_mode": {
    "name": "ipython",
    "version": 3
   },
   "file_extension": ".py",
   "mimetype": "text/x-python",
   "name": "python",
   "nbconvert_exporter": "python",
   "pygments_lexer": "ipython3",
   "version": "3.7.2"
  }
 },
 "nbformat": 4,
 "nbformat_minor": 2
}
