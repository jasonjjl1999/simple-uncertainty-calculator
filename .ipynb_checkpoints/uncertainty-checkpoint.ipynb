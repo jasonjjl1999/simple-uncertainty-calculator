{
 "cells": [
  {
   "cell_type": "markdown",
   "metadata": {},
   "source": [
    "# Usage Example for uncertainty.py"
   ]
  },
  {
   "cell_type": "markdown",
   "metadata": {},
   "source": [
    "Consider the following data\n",
    "\n",
    "$$x = 10.3 \\pm 0.1 \\,\\, ; \\,\\, y = 55.6 \\pm 0.3 \\,\\, ; \\,\\, z = 28.9 \\pm 0.2$$\n",
    "\n",
    "and the relation\n",
    "\n",
    "$$f = 2x^{2}yz + \\frac{y^{3}}{z}$$\n",
    "\n",
    "The following code below shows how the uncertainty() function can be used to find the answer and error for a for the aforementioned relationship using the given values."
   ]
  },
  {
   "cell_type": "code",
   "execution_count": 1,
   "metadata": {},
   "outputs": [
    {
     "name": "stdout",
     "output_type": "stream",
     "text": [
      "The answer is 346886.702757093\n",
      "The uncertainty is 7276.59456922982\n"
     ]
    }
   ],
   "source": [
    "from uncertainty import *\n",
    "\n",
    "# Declare symbolic variables\n",
    "x, y, z = symbols('x y z')\n",
    "\n",
    "# Declare symbolic function\n",
    "f = 2*(x**2)*y*z + (y**3)/z \n",
    "\n",
    "# List of symbolic variables used\n",
    "var_list = [x, y, z]\n",
    "\n",
    "# List of values (x = 10.3, y = 55.6, y = 28.9)\n",
    "val_list = [10.3, 55.6, 28.9]\n",
    "\n",
    "# List of uncertainties associated with each value\n",
    "err_list = [0.1, 0.3, 0.2]\n",
    "\n",
    "[answer, error] = uncertainty(var_list, val_list, err_list,f)\n",
    "\n",
    "print(\"The answer is \"+ str(answer))\n",
    "print(\"The uncertainty is \"+ str(error))"
   ]
  }
 ],
 "metadata": {
  "kernelspec": {
   "display_name": "Python 3",
   "language": "python",
   "name": "python3"
  },
  "language_info": {
   "codemirror_mode": {
    "name": "ipython",
    "version": 3
   },
   "file_extension": ".py",
   "mimetype": "text/x-python",
   "name": "python",
   "nbconvert_exporter": "python",
   "pygments_lexer": "ipython3",
   "version": "3.7.2"
  }
 },
 "nbformat": 4,
 "nbformat_minor": 2
}
